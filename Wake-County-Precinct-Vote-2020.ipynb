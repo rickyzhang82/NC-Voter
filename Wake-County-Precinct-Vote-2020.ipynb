{
 "cells": [
  {
   "cell_type": "code",
   "execution_count": 20,
   "metadata": {},
   "outputs": [],
   "source": [
    "import numpy as np\n",
    "import pandas as pd\n",
    "import matplotlib.pyplot as plt\n",
    "import math\n",
    "import os.path\n",
    "import json\n",
    "import time"
   ]
  },
  {
   "cell_type": "code",
   "execution_count": 2,
   "metadata": {},
   "outputs": [],
   "source": [
    "# https://er.ncsbe.gov/contest_details.html?election_dt=11/03/2020&county_id=92&contest_id=1373\n",
    "DATA_ROOT_PATH = '/src/data/nc-voting'\n",
    "FILENAME = 'wake-county-precinct-2020.csv'"
   ]
  },
  {
   "cell_type": "code",
   "execution_count": 3,
   "metadata": {},
   "outputs": [],
   "source": [
    "df = pd.read_csv (os.path.join(DATA_ROOT_PATH, FILENAME))"
   ]
  },
  {
   "cell_type": "code",
   "execution_count": 4,
   "metadata": {},
   "outputs": [
    {
     "data": {
      "text/html": [
       "<div>\n",
       "<style scoped>\n",
       "    .dataframe tbody tr th:only-of-type {\n",
       "        vertical-align: middle;\n",
       "    }\n",
       "\n",
       "    .dataframe tbody tr th {\n",
       "        vertical-align: top;\n",
       "    }\n",
       "\n",
       "    .dataframe thead th {\n",
       "        text-align: right;\n",
       "    }\n",
       "</style>\n",
       "<table border=\"1\" class=\"dataframe\">\n",
       "  <thead>\n",
       "    <tr style=\"text-align: right;\">\n",
       "      <th></th>\n",
       "      <th>Precinct</th>\n",
       "      <th>Reporting Status</th>\n",
       "      <th>Joseph R. Biden</th>\n",
       "      <th>Donald J. Trump</th>\n",
       "      <th>Jo Jorgensen</th>\n",
       "      <th>Write-In (Miscellaneous)</th>\n",
       "      <th>Howie Hawkins</th>\n",
       "      <th>Don Blankenship</th>\n",
       "    </tr>\n",
       "  </thead>\n",
       "  <tbody>\n",
       "    <tr>\n",
       "      <th>0</th>\n",
       "      <td>01-01</td>\n",
       "      <td>Final Election Night Results (unofficial)</td>\n",
       "      <td>125</td>\n",
       "      <td>74</td>\n",
       "      <td>5</td>\n",
       "      <td>2</td>\n",
       "      <td>1</td>\n",
       "      <td>0</td>\n",
       "    </tr>\n",
       "    <tr>\n",
       "      <th>1</th>\n",
       "      <td>01-02</td>\n",
       "      <td>Final Election Night Results (unofficial)</td>\n",
       "      <td>128</td>\n",
       "      <td>119</td>\n",
       "      <td>4</td>\n",
       "      <td>3</td>\n",
       "      <td>3</td>\n",
       "      <td>0</td>\n",
       "    </tr>\n",
       "    <tr>\n",
       "      <th>2</th>\n",
       "      <td>01-03</td>\n",
       "      <td>Final Election Night Results (unofficial)</td>\n",
       "      <td>112</td>\n",
       "      <td>190</td>\n",
       "      <td>8</td>\n",
       "      <td>1</td>\n",
       "      <td>2</td>\n",
       "      <td>0</td>\n",
       "    </tr>\n",
       "    <tr>\n",
       "      <th>3</th>\n",
       "      <td>01-04</td>\n",
       "      <td>Final Election Night Results (unofficial)</td>\n",
       "      <td>109</td>\n",
       "      <td>131</td>\n",
       "      <td>3</td>\n",
       "      <td>1</td>\n",
       "      <td>3</td>\n",
       "      <td>1</td>\n",
       "    </tr>\n",
       "    <tr>\n",
       "      <th>4</th>\n",
       "      <td>01-05</td>\n",
       "      <td>Final Election Night Results (unofficial)</td>\n",
       "      <td>136</td>\n",
       "      <td>191</td>\n",
       "      <td>1</td>\n",
       "      <td>0</td>\n",
       "      <td>0</td>\n",
       "      <td>1</td>\n",
       "    </tr>\n",
       "    <tr>\n",
       "      <th>5</th>\n",
       "      <td>01-06</td>\n",
       "      <td>Final Election Night Results (unofficial)</td>\n",
       "      <td>182</td>\n",
       "      <td>164</td>\n",
       "      <td>1</td>\n",
       "      <td>4</td>\n",
       "      <td>3</td>\n",
       "      <td>1</td>\n",
       "    </tr>\n",
       "    <tr>\n",
       "      <th>6</th>\n",
       "      <td>01-07</td>\n",
       "      <td>Final Election Night Results (unofficial)</td>\n",
       "      <td>159</td>\n",
       "      <td>119</td>\n",
       "      <td>11</td>\n",
       "      <td>3</td>\n",
       "      <td>1</td>\n",
       "      <td>0</td>\n",
       "    </tr>\n",
       "    <tr>\n",
       "      <th>7</th>\n",
       "      <td>01-07A</td>\n",
       "      <td>Final Election Night Results (unofficial)</td>\n",
       "      <td>58</td>\n",
       "      <td>24</td>\n",
       "      <td>0</td>\n",
       "      <td>0</td>\n",
       "      <td>0</td>\n",
       "      <td>0</td>\n",
       "    </tr>\n",
       "    <tr>\n",
       "      <th>8</th>\n",
       "      <td>01-09</td>\n",
       "      <td>Final Election Night Results (unofficial)</td>\n",
       "      <td>154</td>\n",
       "      <td>95</td>\n",
       "      <td>5</td>\n",
       "      <td>2</td>\n",
       "      <td>1</td>\n",
       "      <td>0</td>\n",
       "    </tr>\n",
       "    <tr>\n",
       "      <th>9</th>\n",
       "      <td>01-10</td>\n",
       "      <td>Final Election Night Results (unofficial)</td>\n",
       "      <td>158</td>\n",
       "      <td>166</td>\n",
       "      <td>5</td>\n",
       "      <td>1</td>\n",
       "      <td>0</td>\n",
       "      <td>0</td>\n",
       "    </tr>\n",
       "  </tbody>\n",
       "</table>\n",
       "</div>"
      ],
      "text/plain": [
       "  Precinct                           Reporting Status  Joseph R. Biden  \\\n",
       "0    01-01  Final Election Night Results (unofficial)              125   \n",
       "1    01-02  Final Election Night Results (unofficial)              128   \n",
       "2    01-03  Final Election Night Results (unofficial)              112   \n",
       "3    01-04  Final Election Night Results (unofficial)              109   \n",
       "4    01-05  Final Election Night Results (unofficial)              136   \n",
       "5    01-06  Final Election Night Results (unofficial)              182   \n",
       "6    01-07  Final Election Night Results (unofficial)              159   \n",
       "7   01-07A  Final Election Night Results (unofficial)               58   \n",
       "8    01-09  Final Election Night Results (unofficial)              154   \n",
       "9    01-10  Final Election Night Results (unofficial)              158   \n",
       "\n",
       "   Donald J. Trump  Jo Jorgensen  Write-In (Miscellaneous)  Howie Hawkins  \\\n",
       "0               74             5                         2              1   \n",
       "1              119             4                         3              3   \n",
       "2              190             8                         1              2   \n",
       "3              131             3                         1              3   \n",
       "4              191             1                         0              0   \n",
       "5              164             1                         4              3   \n",
       "6              119            11                         3              1   \n",
       "7               24             0                         0              0   \n",
       "8               95             5                         2              1   \n",
       "9              166             5                         1              0   \n",
       "\n",
       "   Don Blankenship  \n",
       "0                0  \n",
       "1                0  \n",
       "2                0  \n",
       "3                1  \n",
       "4                1  \n",
       "5                1  \n",
       "6                0  \n",
       "7                0  \n",
       "8                0  \n",
       "9                0  "
      ]
     },
     "execution_count": 4,
     "metadata": {},
     "output_type": "execute_result"
    }
   ],
   "source": [
    "df.head(10)"
   ]
  },
  {
   "cell_type": "code",
   "execution_count": 5,
   "metadata": {},
   "outputs": [
    {
     "data": {
      "text/plain": [
       "Precinct                    object\n",
       "Reporting Status            object\n",
       "Joseph R. Biden              int64\n",
       "Donald J. Trump              int64\n",
       "Jo Jorgensen                 int64\n",
       "Write-In (Miscellaneous)     int64\n",
       "Howie Hawkins                int64\n",
       "Don Blankenship              int64\n",
       "dtype: object"
      ]
     },
     "execution_count": 5,
     "metadata": {},
     "output_type": "execute_result"
    }
   ],
   "source": [
    "df.dtypes"
   ]
  },
  {
   "cell_type": "code",
   "execution_count": 13,
   "metadata": {},
   "outputs": [],
   "source": [
    "def get_first_digit(num):\n",
    "    num_str=str(num)\n",
    "    return int(num_str[0])"
   ]
  },
  {
   "cell_type": "code",
   "execution_count": 15,
   "metadata": {},
   "outputs": [],
   "source": [
    "assert get_first_digit(459)==4\n",
    "assert get_first_digit(23451)==2\n",
    "assert get_first_digit(953)==9"
   ]
  },
  {
   "cell_type": "code",
   "execution_count": 17,
   "metadata": {},
   "outputs": [],
   "source": [
    "df['JOE_1ST'] = df['Joseph R. Biden'].apply(get_first_digit)\n",
    "df['DONALD_1ST'] = df['Donald J. Trump'].apply(get_first_digit)\n",
    "df['JO_1ST'] = df['Jo Jorgensen'].apply(get_first_digit)"
   ]
  },
  {
   "cell_type": "code",
   "execution_count": 18,
   "metadata": {},
   "outputs": [
    {
     "data": {
      "text/html": [
       "<div>\n",
       "<style scoped>\n",
       "    .dataframe tbody tr th:only-of-type {\n",
       "        vertical-align: middle;\n",
       "    }\n",
       "\n",
       "    .dataframe tbody tr th {\n",
       "        vertical-align: top;\n",
       "    }\n",
       "\n",
       "    .dataframe thead th {\n",
       "        text-align: right;\n",
       "    }\n",
       "</style>\n",
       "<table border=\"1\" class=\"dataframe\">\n",
       "  <thead>\n",
       "    <tr style=\"text-align: right;\">\n",
       "      <th></th>\n",
       "      <th>Precinct</th>\n",
       "      <th>Reporting Status</th>\n",
       "      <th>Joseph R. Biden</th>\n",
       "      <th>Donald J. Trump</th>\n",
       "      <th>Jo Jorgensen</th>\n",
       "      <th>Write-In (Miscellaneous)</th>\n",
       "      <th>Howie Hawkins</th>\n",
       "      <th>Don Blankenship</th>\n",
       "      <th>JOE_1ST</th>\n",
       "      <th>DONALD_1ST</th>\n",
       "      <th>JO_1ST</th>\n",
       "    </tr>\n",
       "  </thead>\n",
       "  <tbody>\n",
       "    <tr>\n",
       "      <th>0</th>\n",
       "      <td>01-01</td>\n",
       "      <td>Final Election Night Results (unofficial)</td>\n",
       "      <td>125</td>\n",
       "      <td>74</td>\n",
       "      <td>5</td>\n",
       "      <td>2</td>\n",
       "      <td>1</td>\n",
       "      <td>0</td>\n",
       "      <td>1</td>\n",
       "      <td>7</td>\n",
       "      <td>5</td>\n",
       "    </tr>\n",
       "    <tr>\n",
       "      <th>1</th>\n",
       "      <td>01-02</td>\n",
       "      <td>Final Election Night Results (unofficial)</td>\n",
       "      <td>128</td>\n",
       "      <td>119</td>\n",
       "      <td>4</td>\n",
       "      <td>3</td>\n",
       "      <td>3</td>\n",
       "      <td>0</td>\n",
       "      <td>1</td>\n",
       "      <td>1</td>\n",
       "      <td>4</td>\n",
       "    </tr>\n",
       "    <tr>\n",
       "      <th>2</th>\n",
       "      <td>01-03</td>\n",
       "      <td>Final Election Night Results (unofficial)</td>\n",
       "      <td>112</td>\n",
       "      <td>190</td>\n",
       "      <td>8</td>\n",
       "      <td>1</td>\n",
       "      <td>2</td>\n",
       "      <td>0</td>\n",
       "      <td>1</td>\n",
       "      <td>1</td>\n",
       "      <td>8</td>\n",
       "    </tr>\n",
       "    <tr>\n",
       "      <th>3</th>\n",
       "      <td>01-04</td>\n",
       "      <td>Final Election Night Results (unofficial)</td>\n",
       "      <td>109</td>\n",
       "      <td>131</td>\n",
       "      <td>3</td>\n",
       "      <td>1</td>\n",
       "      <td>3</td>\n",
       "      <td>1</td>\n",
       "      <td>1</td>\n",
       "      <td>1</td>\n",
       "      <td>3</td>\n",
       "    </tr>\n",
       "    <tr>\n",
       "      <th>4</th>\n",
       "      <td>01-05</td>\n",
       "      <td>Final Election Night Results (unofficial)</td>\n",
       "      <td>136</td>\n",
       "      <td>191</td>\n",
       "      <td>1</td>\n",
       "      <td>0</td>\n",
       "      <td>0</td>\n",
       "      <td>1</td>\n",
       "      <td>1</td>\n",
       "      <td>1</td>\n",
       "      <td>1</td>\n",
       "    </tr>\n",
       "    <tr>\n",
       "      <th>5</th>\n",
       "      <td>01-06</td>\n",
       "      <td>Final Election Night Results (unofficial)</td>\n",
       "      <td>182</td>\n",
       "      <td>164</td>\n",
       "      <td>1</td>\n",
       "      <td>4</td>\n",
       "      <td>3</td>\n",
       "      <td>1</td>\n",
       "      <td>1</td>\n",
       "      <td>1</td>\n",
       "      <td>1</td>\n",
       "    </tr>\n",
       "    <tr>\n",
       "      <th>6</th>\n",
       "      <td>01-07</td>\n",
       "      <td>Final Election Night Results (unofficial)</td>\n",
       "      <td>159</td>\n",
       "      <td>119</td>\n",
       "      <td>11</td>\n",
       "      <td>3</td>\n",
       "      <td>1</td>\n",
       "      <td>0</td>\n",
       "      <td>1</td>\n",
       "      <td>1</td>\n",
       "      <td>1</td>\n",
       "    </tr>\n",
       "    <tr>\n",
       "      <th>7</th>\n",
       "      <td>01-07A</td>\n",
       "      <td>Final Election Night Results (unofficial)</td>\n",
       "      <td>58</td>\n",
       "      <td>24</td>\n",
       "      <td>0</td>\n",
       "      <td>0</td>\n",
       "      <td>0</td>\n",
       "      <td>0</td>\n",
       "      <td>5</td>\n",
       "      <td>2</td>\n",
       "      <td>0</td>\n",
       "    </tr>\n",
       "    <tr>\n",
       "      <th>8</th>\n",
       "      <td>01-09</td>\n",
       "      <td>Final Election Night Results (unofficial)</td>\n",
       "      <td>154</td>\n",
       "      <td>95</td>\n",
       "      <td>5</td>\n",
       "      <td>2</td>\n",
       "      <td>1</td>\n",
       "      <td>0</td>\n",
       "      <td>1</td>\n",
       "      <td>9</td>\n",
       "      <td>5</td>\n",
       "    </tr>\n",
       "    <tr>\n",
       "      <th>9</th>\n",
       "      <td>01-10</td>\n",
       "      <td>Final Election Night Results (unofficial)</td>\n",
       "      <td>158</td>\n",
       "      <td>166</td>\n",
       "      <td>5</td>\n",
       "      <td>1</td>\n",
       "      <td>0</td>\n",
       "      <td>0</td>\n",
       "      <td>1</td>\n",
       "      <td>1</td>\n",
       "      <td>5</td>\n",
       "    </tr>\n",
       "  </tbody>\n",
       "</table>\n",
       "</div>"
      ],
      "text/plain": [
       "  Precinct                           Reporting Status  Joseph R. Biden  \\\n",
       "0    01-01  Final Election Night Results (unofficial)              125   \n",
       "1    01-02  Final Election Night Results (unofficial)              128   \n",
       "2    01-03  Final Election Night Results (unofficial)              112   \n",
       "3    01-04  Final Election Night Results (unofficial)              109   \n",
       "4    01-05  Final Election Night Results (unofficial)              136   \n",
       "5    01-06  Final Election Night Results (unofficial)              182   \n",
       "6    01-07  Final Election Night Results (unofficial)              159   \n",
       "7   01-07A  Final Election Night Results (unofficial)               58   \n",
       "8    01-09  Final Election Night Results (unofficial)              154   \n",
       "9    01-10  Final Election Night Results (unofficial)              158   \n",
       "\n",
       "   Donald J. Trump  Jo Jorgensen  Write-In (Miscellaneous)  Howie Hawkins  \\\n",
       "0               74             5                         2              1   \n",
       "1              119             4                         3              3   \n",
       "2              190             8                         1              2   \n",
       "3              131             3                         1              3   \n",
       "4              191             1                         0              0   \n",
       "5              164             1                         4              3   \n",
       "6              119            11                         3              1   \n",
       "7               24             0                         0              0   \n",
       "8               95             5                         2              1   \n",
       "9              166             5                         1              0   \n",
       "\n",
       "   Don Blankenship  JOE_1ST  DONALD_1ST  JO_1ST  \n",
       "0                0        1           7       5  \n",
       "1                0        1           1       4  \n",
       "2                0        1           1       8  \n",
       "3                1        1           1       3  \n",
       "4                1        1           1       1  \n",
       "5                1        1           1       1  \n",
       "6                0        1           1       1  \n",
       "7                0        5           2       0  \n",
       "8                0        1           9       5  \n",
       "9                0        1           1       5  "
      ]
     },
     "execution_count": 18,
     "metadata": {},
     "output_type": "execute_result"
    }
   ],
   "source": [
    "df.head(10)"
   ]
  },
  {
   "cell_type": "code",
   "execution_count": 41,
   "metadata": {},
   "outputs": [
    {
     "data": {
      "text/plain": [
       "298"
      ]
     },
     "execution_count": 41,
     "metadata": {},
     "output_type": "execute_result"
    }
   ],
   "source": [
    "len(df.index)"
   ]
  },
  {
   "cell_type": "code",
   "execution_count": 34,
   "metadata": {},
   "outputs": [
    {
     "name": "stdout",
     "output_type": "stream",
     "text": [
      "JOE_1ST\n",
      "1    130\n",
      "2     61\n",
      "3     16\n",
      "4     10\n",
      "5      8\n",
      "6     12\n",
      "7     10\n",
      "8     14\n",
      "9     14\n",
      "Name: JOE_1ST, dtype: int64\n",
      "DONALD_1ST\n",
      "1    92\n",
      "2    82\n",
      "3    34\n",
      "4    24\n",
      "5    11\n",
      "6    10\n",
      "7     8\n",
      "8     6\n",
      "9    10\n",
      "Name: DONALD_1ST, dtype: int64\n",
      "JO_1ST\n",
      "1    108\n",
      "2     23\n",
      "3     19\n",
      "4     16\n",
      "5     28\n",
      "6     13\n",
      "7     24\n",
      "8     21\n",
      "9     12\n",
      "Name: JO_1ST, dtype: int64\n"
     ]
    }
   ],
   "source": [
    "s_dict = dict()\n",
    "s_name = ('JOE_1ST', 'DONALD_1ST', 'JO_1ST',)\n",
    "\n",
    "for name in s_name:\n",
    "    serie=df[name].value_counts().sort_index().drop(index=0)\n",
    "    s_dict[name] = serie\n",
    "    print(name)\n",
    "    print(serie)"
   ]
  },
  {
   "cell_type": "code",
   "execution_count": 46,
   "metadata": {},
   "outputs": [],
   "source": [
    "def plot_graph(name):\n",
    "    plt.bar(s_dict[name].index, s_dict[name].values)\n",
    "    plt.xticks(s_dict[name].index)\n",
    "    plt.xlabel(\"First leading number\")\n",
    "    plt.title(name)"
   ]
  },
  {
   "cell_type": "code",
   "execution_count": 47,
   "metadata": {},
   "outputs": [
    {
     "data": {
      "image/png": "[encoded data removed]",
      "text/plain": [
       "<Figure size 432x288 with 1 Axes>"
      ]
     },
     "metadata": {
      "needs_background": "light"
     },
     "output_type": "display_data"
    }
   ],
   "source": [
    "plot_graph('JOE_1ST')"
   ]
  },
  {
   "cell_type": "code",
   "execution_count": 48,
   "metadata": {},
   "outputs": [
    {
     "data": {
      "image/png": "[encoded data removed]",
      "text/plain": [
       "<Figure size 432x288 with 1 Axes>"
      ]
     },
     "metadata": {
      "needs_background": "light"
     },
     "output_type": "display_data"
    }
   ],
   "source": [
    "plot_graph('DONALD_1ST')"
   ]
  },
  {
   "cell_type": "code",
   "execution_count": 49,
   "metadata": {},
   "outputs": [
    {
     "data": {
      "image/png": "[encoded data removed]",
      "text/plain": [
       "<Figure size 432x288 with 1 Axes>"
      ]
     },
     "metadata": {
      "needs_background": "light"
     },
     "output_type": "display_data"
    }
   ],
   "source": [
    "plot_graph('JO_1ST')"
   ]
  },
  {
   "cell_type": "code",
   "execution_count": null,
   "metadata": {},
   "outputs": [],
   "source": []
  }
 ],
 "metadata": {
  "kernelspec": {
   "display_name": "Python 3",
   "language": "python",
   "name": "python3"
  },
  "language_info": {
   "codemirror_mode": {
    "name": "ipython",
    "version": 3
   },
   "file_extension": ".py",
   "mimetype": "text/x-python",
   "name": "python",
   "nbconvert_exporter": "python",
   "pygments_lexer": "ipython3",
   "version": "3.6.9"
  }
 },
 "nbformat": 4,
 "nbformat_minor": 2
}
