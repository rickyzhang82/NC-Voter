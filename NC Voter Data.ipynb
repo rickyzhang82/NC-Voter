{
 "cells": [
  {
   "cell_type": "code",
   "execution_count": 1,
   "metadata": {},
   "outputs": [],
   "source": [
    "import numpy as np\n",
    "import pandas as pd\n",
    "import math\n",
    "import os.path\n",
    "import json\n",
    "import time"
   ]
  },
  {
   "cell_type": "code",
   "execution_count": 2,
   "metadata": {},
   "outputs": [],
   "source": [
    "# Download absentee data source https://s3.amazonaws.com/dl.ncsbe.gov/ENRS/2016_11_08/absentee_20161108.zip\n",
    "DATA_ROOT_PATH = '/src/data/nc-voting'\n",
    "FILENAME = 'absentee_20161108.csv'"
   ]
  },
  {
   "cell_type": "code",
   "execution_count": 3,
   "metadata": {},
   "outputs": [
    {
     "name": "stderr",
     "output_type": "stream",
     "text": [
      "/usr/local/lib/python3.6/dist-packages/IPython/core/interactiveshell.py:3051: DtypeWarning: Columns (22) have mixed types. Specify dtype option on import or set low_memory=False.\n",
      "  interactivity=interactivity, compiler=compiler, result=result)\n"
     ]
    }
   ],
   "source": [
    "df = pd.read_csv (os.path.join(DATA_ROOT_PATH, FILENAME), encoding = \"ISO-8859-1\")"
   ]
  },
  {
   "cell_type": "markdown",
   "metadata": {},
   "source": [
    "# Data Exploration"
   ]
  },
  {
   "cell_type": "code",
   "execution_count": 4,
   "metadata": {},
   "outputs": [],
   "source": [
    "df['ballot_rtn_status_cat'] = df['ballot_rtn_status'].astype('category')"
   ]
  },
  {
   "cell_type": "code",
   "execution_count": 5,
   "metadata": {},
   "outputs": [
    {
     "data": {
      "text/plain": [
       "ACCEPTED                   3147210\n",
       "SPOILED                      15529\n",
       "CANCELLED                     3521\n",
       "WITNESS INFO INCOMPLETE       2700\n",
       "RETURNED AFTER DEADLINE       1215\n",
       "VOTER SIGNATURE MISSING       1101\n",
       "RETURNED UNDELIVERABLE         778\n",
       "NOT VOTED                      625\n",
       "WRONG VOTER                    549\n",
       "DUPLICATE                       39\n",
       "SIGNATURE DIFFERENT             32\n",
       "NOT PROPERLY NOTARIZED          32\n",
       "E-TRANSMISSION FAILURE          15\n",
       "Name: ballot_rtn_status_cat, dtype: int64"
      ]
     },
     "execution_count": 5,
     "metadata": {},
     "output_type": "execute_result"
    }
   ],
   "source": [
    "df['ballot_rtn_status_cat'].value_counts()"
   ]
  },
  {
   "cell_type": "code",
   "execution_count": 6,
   "metadata": {},
   "outputs": [
    {
     "data": {
      "text/plain": [
       "IN PERSON    2960469\n",
       "MAIL          222498\n",
       "E-MAIL         17972\n",
       "FAX               20\n",
       "Name: ballot_req_delivery_type_cat, dtype: int64"
      ]
     },
     "execution_count": 6,
     "metadata": {},
     "output_type": "execute_result"
    }
   ],
   "source": [
    "df['ballot_req_delivery_type_cat'] = df['ballot_req_delivery_type'].astype('category')\n",
    "df['ballot_req_delivery_type_cat'].value_counts()"
   ]
  },
  {
   "cell_type": "code",
   "execution_count": 7,
   "metadata": {},
   "outputs": [
    {
     "data": {
      "text/plain": [
       "ONE-STOP    2960318\n",
       "MAIL         240641\n",
       "Name: ballot_req_type_cat, dtype: int64"
      ]
     },
     "execution_count": 7,
     "metadata": {},
     "output_type": "execute_result"
    }
   ],
   "source": [
    "df['ballot_req_type_cat'] = df['ballot_req_type'].astype('category')\n",
    "df['ballot_req_type_cat'].value_counts()"
   ]
  },
  {
   "cell_type": "code",
   "execution_count": 8,
   "metadata": {},
   "outputs": [
    {
     "data": {
      "text/plain": [
       "11/08/2016    3200959\n",
       "Name: election_dt, dtype: int64"
      ]
     },
     "execution_count": 8,
     "metadata": {},
     "output_type": "execute_result"
    }
   ],
   "source": [
    "df[\"election_dt\"].astype('category').value_counts()"
   ]
  },
  {
   "cell_type": "markdown",
   "metadata": {},
   "source": [
    "# Rejected Rate in Absentee Ballot by Mail"
   ]
  },
  {
   "cell_type": "code",
   "execution_count": 9,
   "metadata": {},
   "outputs": [],
   "source": [
    "vote_by_mail_df = df[df['ballot_req_type_cat']=='MAIL']"
   ]
  },
  {
   "cell_type": "code",
   "execution_count": 17,
   "metadata": {},
   "outputs": [
    {
     "data": {
      "text/plain": [
       "ACCEPTED                   191601\n",
       "NaN                         27613\n",
       "SPOILED                     15529\n",
       "WITNESS INFO INCOMPLETE      2700\n",
       "RETURNED AFTER DEADLINE      1215\n",
       "VOTER SIGNATURE MISSING      1101\n",
       "RETURNED UNDELIVERABLE        778\n",
       "SIGNATURE DIFFERENT            32\n",
       "NOT PROPERLY NOTARIZED         32\n",
       "DUPLICATE                      25\n",
       "E-TRANSMISSION FAILURE         15\n",
       "WRONG VOTER                     0\n",
       "NOT VOTED                       0\n",
       "CANCELLED                       0\n",
       "Name: ballot_rtn_status_cat, dtype: int64"
      ]
     },
     "execution_count": 17,
     "metadata": {},
     "output_type": "execute_result"
    }
   ],
   "source": [
    "vote_by_mail_df['ballot_rtn_status_cat'].value_counts(dropna=False)"
   ]
  },
  {
   "cell_type": "code",
   "execution_count": 11,
   "metadata": {},
   "outputs": [
    {
     "data": {
      "text/plain": [
       "240641"
      ]
     },
     "execution_count": 11,
     "metadata": {},
     "output_type": "execute_result"
    }
   ],
   "source": [
    "len(vote_by_mail_df)"
   ]
  },
  {
   "cell_type": "code",
   "execution_count": 38,
   "metadata": {},
   "outputs": [
    {
     "name": "stdout",
     "output_type": "stream",
     "text": [
      "Rejected Rate of absentee ballot in mail : 2.45%\n"
     ]
    }
   ],
   "source": [
    "rejected_rate_in_mail=1-((191601 + 15529 + 27613 )/240641)\n",
    "print(\"Rejected Rate of absentee ballot in mail : {:.2%}\".format(rejected_rate_in_mail))"
   ]
  },
  {
   "cell_type": "code",
   "execution_count": 34,
   "metadata": {},
   "outputs": [
    {
     "data": {
      "text/plain": [
       "county_desc                       object\n",
       "voter_reg_num                      int64\n",
       "ncid                              object\n",
       "voter_last_name                   object\n",
       "voter_first_name                  object\n",
       "voter_middle_name                 object\n",
       "race                              object\n",
       "gender                            object\n",
       "age                                int64\n",
       "voter_street_address              object\n",
       "voter_city                        object\n",
       "voter_state                       object\n",
       "voter_zip                        float64\n",
       "ballot_mail_street_address        object\n",
       "ballot_mail_city                  object\n",
       "ballot_mail_state                 object\n",
       "ballot_mail_zip                   object\n",
       "other_mail_addr1                  object\n",
       "other_mail_addr2                  object\n",
       "other_city_state_zip              object\n",
       "election_dt                       object\n",
       "voter_party_code                  object\n",
       "precinct_desc                     object\n",
       "cong_dist_desc                    object\n",
       "nc_house_desc                     object\n",
       "nc_senate_desc                    object\n",
       "ballot_req_delivery_type          object\n",
       "ballot_req_type                   object\n",
       "ballot_request_party              object\n",
       "ballot_req_dt                     object\n",
       "ballot_send_dt                    object\n",
       "ballot_rtn_dt                     object\n",
       "ballot_rtn_status                 object\n",
       "site_name                         object\n",
       "sdr                               object\n",
       "mail_veri_status                  object\n",
       "ballot_rtn_status_cat           category\n",
       "ballot_req_delivery_type_cat    category\n",
       "ballot_req_type_cat             category\n",
       "dtype: object"
      ]
     },
     "execution_count": 34,
     "metadata": {},
     "output_type": "execute_result"
    }
   ],
   "source": [
    "vote_by_mail_df.dtypes"
   ]
  },
  {
   "cell_type": "code",
   "execution_count": 36,
   "metadata": {},
   "outputs": [],
   "source": [
    "vote_by_mail_na_rt_status_df = vote_by_mail_df[pd.isna(vote_by_mail_df['ballot_rtn_status_cat'])]"
   ]
  },
  {
   "cell_type": "code",
   "execution_count": 37,
   "metadata": {},
   "outputs": [
    {
     "data": {
      "text/html": [
       "<div>\n",
       "<style scoped>\n",
       "    .dataframe tbody tr th:only-of-type {\n",
       "        vertical-align: middle;\n",
       "    }\n",
       "\n",
       "    .dataframe tbody tr th {\n",
       "        vertical-align: top;\n",
       "    }\n",
       "\n",
       "    .dataframe thead th {\n",
       "        text-align: right;\n",
       "    }\n",
       "</style>\n",
       "<table border=\"1\" class=\"dataframe\">\n",
       "  <thead>\n",
       "    <tr style=\"text-align: right;\">\n",
       "      <th></th>\n",
       "      <th>county_desc</th>\n",
       "      <th>voter_reg_num</th>\n",
       "      <th>ncid</th>\n",
       "      <th>voter_last_name</th>\n",
       "      <th>voter_first_name</th>\n",
       "      <th>voter_middle_name</th>\n",
       "      <th>race</th>\n",
       "      <th>gender</th>\n",
       "      <th>age</th>\n",
       "      <th>voter_street_address</th>\n",
       "      <th>...</th>\n",
       "      <th>ballot_req_dt</th>\n",
       "      <th>ballot_send_dt</th>\n",
       "      <th>ballot_rtn_dt</th>\n",
       "      <th>ballot_rtn_status</th>\n",
       "      <th>site_name</th>\n",
       "      <th>sdr</th>\n",
       "      <th>mail_veri_status</th>\n",
       "      <th>ballot_rtn_status_cat</th>\n",
       "      <th>ballot_req_delivery_type_cat</th>\n",
       "      <th>ballot_req_type_cat</th>\n",
       "    </tr>\n",
       "  </thead>\n",
       "  <tbody>\n",
       "    <tr>\n",
       "      <th>41</th>\n",
       "      <td>ALAMANCE</td>\n",
       "      <td>9131045</td>\n",
       "      <td>AA171628</td>\n",
       "      <td>ABRAHAMS</td>\n",
       "      <td>DIANA</td>\n",
       "      <td>SHULAMITH</td>\n",
       "      <td>WHITE</td>\n",
       "      <td>F</td>\n",
       "      <td>25</td>\n",
       "      <td>3121  COMMERCE PL   #A</td>\n",
       "      <td>...</td>\n",
       "      <td>09/27/2016</td>\n",
       "      <td>09/27/2016</td>\n",
       "      <td>NaN</td>\n",
       "      <td>NaN</td>\n",
       "      <td>NaN</td>\n",
       "      <td></td>\n",
       "      <td></td>\n",
       "      <td>NaN</td>\n",
       "      <td>E-MAIL</td>\n",
       "      <td>MAIL</td>\n",
       "    </tr>\n",
       "    <tr>\n",
       "      <th>250</th>\n",
       "      <td>ALAMANCE</td>\n",
       "      <td>9164726</td>\n",
       "      <td>AA193714</td>\n",
       "      <td>ALBRIGHT</td>\n",
       "      <td>HALEIGH</td>\n",
       "      <td>JANE</td>\n",
       "      <td>WHITE</td>\n",
       "      <td>F</td>\n",
       "      <td>23</td>\n",
       "      <td>215  ALTAMAHAW-UNION RIDGE RD   #C</td>\n",
       "      <td>...</td>\n",
       "      <td>10/17/2016</td>\n",
       "      <td>10/20/2016</td>\n",
       "      <td>NaN</td>\n",
       "      <td>NaN</td>\n",
       "      <td>NaN</td>\n",
       "      <td></td>\n",
       "      <td>VERIFIED</td>\n",
       "      <td>NaN</td>\n",
       "      <td>MAIL</td>\n",
       "      <td>MAIL</td>\n",
       "    </tr>\n",
       "    <tr>\n",
       "      <th>350</th>\n",
       "      <td>ALAMANCE</td>\n",
       "      <td>9131930</td>\n",
       "      <td>AA138788</td>\n",
       "      <td>ALEXANDER</td>\n",
       "      <td>LAWRENCE</td>\n",
       "      <td>BRENT</td>\n",
       "      <td>WHITE</td>\n",
       "      <td>M</td>\n",
       "      <td>31</td>\n",
       "      <td>1765  CARL NOAH RD</td>\n",
       "      <td>...</td>\n",
       "      <td>10/21/2016</td>\n",
       "      <td>NaN</td>\n",
       "      <td>NaN</td>\n",
       "      <td>NaN</td>\n",
       "      <td>NaN</td>\n",
       "      <td></td>\n",
       "      <td></td>\n",
       "      <td>NaN</td>\n",
       "      <td>MAIL</td>\n",
       "      <td>MAIL</td>\n",
       "    </tr>\n",
       "    <tr>\n",
       "      <th>369</th>\n",
       "      <td>ALAMANCE</td>\n",
       "      <td>9143639</td>\n",
       "      <td>AA180908</td>\n",
       "      <td>ALEXANDRE</td>\n",
       "      <td>MICHAEL</td>\n",
       "      <td>THOMAS</td>\n",
       "      <td>WHITE</td>\n",
       "      <td>M</td>\n",
       "      <td>74</td>\n",
       "      <td>2381  LACY HOLT RD</td>\n",
       "      <td>...</td>\n",
       "      <td>11/01/2016</td>\n",
       "      <td>11/01/2016</td>\n",
       "      <td>NaN</td>\n",
       "      <td>NaN</td>\n",
       "      <td>MAILED</td>\n",
       "      <td></td>\n",
       "      <td></td>\n",
       "      <td>NaN</td>\n",
       "      <td>MAIL</td>\n",
       "      <td>MAIL</td>\n",
       "    </tr>\n",
       "    <tr>\n",
       "      <th>388</th>\n",
       "      <td>ALAMANCE</td>\n",
       "      <td>9081194</td>\n",
       "      <td>AA130412</td>\n",
       "      <td>ALIFF</td>\n",
       "      <td>ROBERTA</td>\n",
       "      <td>LEE</td>\n",
       "      <td>WHITE</td>\n",
       "      <td>F</td>\n",
       "      <td>76</td>\n",
       "      <td>501  BLAKEY HALL LN   #210</td>\n",
       "      <td>...</td>\n",
       "      <td>11/02/2016</td>\n",
       "      <td>11/02/2016</td>\n",
       "      <td>NaN</td>\n",
       "      <td>NaN</td>\n",
       "      <td>MAILED</td>\n",
       "      <td></td>\n",
       "      <td></td>\n",
       "      <td>NaN</td>\n",
       "      <td>MAIL</td>\n",
       "      <td>MAIL</td>\n",
       "    </tr>\n",
       "    <tr>\n",
       "      <th>389</th>\n",
       "      <td>ALAMANCE</td>\n",
       "      <td>9160061</td>\n",
       "      <td>AA190814</td>\n",
       "      <td>ALIMUSLEH</td>\n",
       "      <td>WISAM</td>\n",
       "      <td>TAWFIK</td>\n",
       "      <td>OTHER</td>\n",
       "      <td>M</td>\n",
       "      <td>19</td>\n",
       "      <td>1102  BIBURY CT</td>\n",
       "      <td>...</td>\n",
       "      <td>08/19/2016</td>\n",
       "      <td>09/09/2016</td>\n",
       "      <td>NaN</td>\n",
       "      <td>NaN</td>\n",
       "      <td>NaN</td>\n",
       "      <td></td>\n",
       "      <td></td>\n",
       "      <td>NaN</td>\n",
       "      <td>MAIL</td>\n",
       "      <td>MAIL</td>\n",
       "    </tr>\n",
       "    <tr>\n",
       "      <th>437</th>\n",
       "      <td>ALAMANCE</td>\n",
       "      <td>9146950</td>\n",
       "      <td>EH4212</td>\n",
       "      <td>ALLEN</td>\n",
       "      <td>EDITH</td>\n",
       "      <td>WILKINS</td>\n",
       "      <td>WHITE</td>\n",
       "      <td>F</td>\n",
       "      <td>91</td>\n",
       "      <td>1670  WESTBROOK AVE</td>\n",
       "      <td>...</td>\n",
       "      <td>10/10/2016</td>\n",
       "      <td>10/24/2016</td>\n",
       "      <td>NaN</td>\n",
       "      <td>NaN</td>\n",
       "      <td>NaN</td>\n",
       "      <td></td>\n",
       "      <td></td>\n",
       "      <td>NaN</td>\n",
       "      <td>MAIL</td>\n",
       "      <td>MAIL</td>\n",
       "    </tr>\n",
       "    <tr>\n",
       "      <th>632</th>\n",
       "      <td>ALAMANCE</td>\n",
       "      <td>9080425</td>\n",
       "      <td>AA129643</td>\n",
       "      <td>ALLMOND</td>\n",
       "      <td>TIMOTHY</td>\n",
       "      <td>NaN</td>\n",
       "      <td>WHITE</td>\n",
       "      <td>M</td>\n",
       "      <td>49</td>\n",
       "      <td>3140  WORMRANCH RD</td>\n",
       "      <td>...</td>\n",
       "      <td>10/05/2016</td>\n",
       "      <td>10/05/2016</td>\n",
       "      <td>NaN</td>\n",
       "      <td>NaN</td>\n",
       "      <td>MAILED</td>\n",
       "      <td></td>\n",
       "      <td></td>\n",
       "      <td>NaN</td>\n",
       "      <td>MAIL</td>\n",
       "      <td>MAIL</td>\n",
       "    </tr>\n",
       "    <tr>\n",
       "      <th>827</th>\n",
       "      <td>ALAMANCE</td>\n",
       "      <td>9162565</td>\n",
       "      <td>AA192326</td>\n",
       "      <td>ALVAREZ</td>\n",
       "      <td>ADELFO</td>\n",
       "      <td>NaN</td>\n",
       "      <td>UNDESIGNATED</td>\n",
       "      <td>M</td>\n",
       "      <td>19</td>\n",
       "      <td>1662  PAYNE RD</td>\n",
       "      <td>...</td>\n",
       "      <td>10/07/2016</td>\n",
       "      <td>10/07/2016</td>\n",
       "      <td>NaN</td>\n",
       "      <td>NaN</td>\n",
       "      <td>NaN</td>\n",
       "      <td></td>\n",
       "      <td></td>\n",
       "      <td>NaN</td>\n",
       "      <td>MAIL</td>\n",
       "      <td>MAIL</td>\n",
       "    </tr>\n",
       "    <tr>\n",
       "      <th>1082</th>\n",
       "      <td>ALAMANCE</td>\n",
       "      <td>9113743</td>\n",
       "      <td>AA158898</td>\n",
       "      <td>ANGELOS</td>\n",
       "      <td>TERILEE</td>\n",
       "      <td>GIANOPOULOS</td>\n",
       "      <td>WHITE</td>\n",
       "      <td>F</td>\n",
       "      <td>63</td>\n",
       "      <td>4053  HANSEL TRCE</td>\n",
       "      <td>...</td>\n",
       "      <td>10/06/2016</td>\n",
       "      <td>10/06/2016</td>\n",
       "      <td>NaN</td>\n",
       "      <td>NaN</td>\n",
       "      <td>NaN</td>\n",
       "      <td></td>\n",
       "      <td></td>\n",
       "      <td>NaN</td>\n",
       "      <td>MAIL</td>\n",
       "      <td>MAIL</td>\n",
       "    </tr>\n",
       "  </tbody>\n",
       "</table>\n",
       "<p>10 rows × 39 columns</p>\n",
       "</div>"
      ],
      "text/plain": [
       "     county_desc  voter_reg_num      ncid voter_last_name voter_first_name  \\\n",
       "41      ALAMANCE        9131045  AA171628        ABRAHAMS            DIANA   \n",
       "250     ALAMANCE        9164726  AA193714        ALBRIGHT          HALEIGH   \n",
       "350     ALAMANCE        9131930  AA138788       ALEXANDER         LAWRENCE   \n",
       "369     ALAMANCE        9143639  AA180908       ALEXANDRE          MICHAEL   \n",
       "388     ALAMANCE        9081194  AA130412           ALIFF          ROBERTA   \n",
       "389     ALAMANCE        9160061  AA190814       ALIMUSLEH            WISAM   \n",
       "437     ALAMANCE        9146950    EH4212           ALLEN            EDITH   \n",
       "632     ALAMANCE        9080425  AA129643         ALLMOND          TIMOTHY   \n",
       "827     ALAMANCE        9162565  AA192326         ALVAREZ           ADELFO   \n",
       "1082    ALAMANCE        9113743  AA158898         ANGELOS          TERILEE   \n",
       "\n",
       "     voter_middle_name          race gender  age  \\\n",
       "41           SHULAMITH         WHITE      F   25   \n",
       "250               JANE         WHITE      F   23   \n",
       "350              BRENT         WHITE      M   31   \n",
       "369             THOMAS         WHITE      M   74   \n",
       "388                LEE         WHITE      F   76   \n",
       "389             TAWFIK         OTHER      M   19   \n",
       "437            WILKINS         WHITE      F   91   \n",
       "632                NaN         WHITE      M   49   \n",
       "827                NaN  UNDESIGNATED      M   19   \n",
       "1082       GIANOPOULOS         WHITE      F   63   \n",
       "\n",
       "                    voter_street_address  ... ballot_req_dt ballot_send_dt  \\\n",
       "41                3121  COMMERCE PL   #A  ...    09/27/2016     09/27/2016   \n",
       "250   215  ALTAMAHAW-UNION RIDGE RD   #C  ...    10/17/2016     10/20/2016   \n",
       "350                1765  CARL NOAH RD     ...    10/21/2016            NaN   \n",
       "369                2381  LACY HOLT RD     ...    11/01/2016     11/01/2016   \n",
       "388           501  BLAKEY HALL LN   #210  ...    11/02/2016     11/02/2016   \n",
       "389                   1102  BIBURY CT     ...    08/19/2016     09/09/2016   \n",
       "437               1670  WESTBROOK AVE     ...    10/10/2016     10/24/2016   \n",
       "632                3140  WORMRANCH RD     ...    10/05/2016     10/05/2016   \n",
       "827                    1662  PAYNE RD     ...    10/07/2016     10/07/2016   \n",
       "1082                4053  HANSEL TRCE     ...    10/06/2016     10/06/2016   \n",
       "\n",
       "      ballot_rtn_dt ballot_rtn_status site_name sdr mail_veri_status  \\\n",
       "41              NaN               NaN       NaN                        \n",
       "250             NaN               NaN       NaN             VERIFIED   \n",
       "350             NaN               NaN       NaN                        \n",
       "369             NaN               NaN    MAILED                        \n",
       "388             NaN               NaN    MAILED                        \n",
       "389             NaN               NaN       NaN                        \n",
       "437             NaN               NaN       NaN                        \n",
       "632             NaN               NaN    MAILED                        \n",
       "827             NaN               NaN       NaN                        \n",
       "1082            NaN               NaN       NaN                        \n",
       "\n",
       "     ballot_rtn_status_cat ballot_req_delivery_type_cat ballot_req_type_cat  \n",
       "41                     NaN                       E-MAIL                MAIL  \n",
       "250                    NaN                         MAIL                MAIL  \n",
       "350                    NaN                         MAIL                MAIL  \n",
       "369                    NaN                         MAIL                MAIL  \n",
       "388                    NaN                         MAIL                MAIL  \n",
       "389                    NaN                         MAIL                MAIL  \n",
       "437                    NaN                         MAIL                MAIL  \n",
       "632                    NaN                         MAIL                MAIL  \n",
       "827                    NaN                         MAIL                MAIL  \n",
       "1082                   NaN                         MAIL                MAIL  \n",
       "\n",
       "[10 rows x 39 columns]"
      ]
     },
     "execution_count": 37,
     "metadata": {},
     "output_type": "execute_result"
    }
   ],
   "source": [
    "vote_by_mail_na_rt_status_df.head(10)"
   ]
  },
  {
   "cell_type": "markdown",
   "metadata": {},
   "source": [
    "# Rejected Rate in Absentee Ballot in Person"
   ]
  },
  {
   "cell_type": "code",
   "execution_count": 13,
   "metadata": {},
   "outputs": [],
   "source": [
    "one_stop_vote_in_person = df[df['ballot_req_type_cat']=='ONE-STOP']"
   ]
  },
  {
   "cell_type": "code",
   "execution_count": 18,
   "metadata": {},
   "outputs": [
    {
     "data": {
      "text/plain": [
       "ACCEPTED                   2955609\n",
       "CANCELLED                     3521\n",
       "NOT VOTED                      625\n",
       "WRONG VOTER                    549\n",
       "DUPLICATE                       14\n",
       "WITNESS INFO INCOMPLETE          0\n",
       "VOTER SIGNATURE MISSING          0\n",
       "SPOILED                          0\n",
       "SIGNATURE DIFFERENT              0\n",
       "RETURNED UNDELIVERABLE           0\n",
       "RETURNED AFTER DEADLINE          0\n",
       "NOT PROPERLY NOTARIZED           0\n",
       "E-TRANSMISSION FAILURE           0\n",
       "Name: ballot_rtn_status_cat, dtype: int64"
      ]
     },
     "execution_count": 18,
     "metadata": {},
     "output_type": "execute_result"
    }
   ],
   "source": [
    "one_stop_vote_in_person['ballot_rtn_status_cat'].value_counts(dropna=False)"
   ]
  },
  {
   "cell_type": "code",
   "execution_count": 15,
   "metadata": {},
   "outputs": [
    {
     "data": {
      "text/plain": [
       "2960318"
      ]
     },
     "execution_count": 15,
     "metadata": {},
     "output_type": "execute_result"
    }
   ],
   "source": [
    "len(one_stop_vote_in_person)"
   ]
  },
  {
   "cell_type": "code",
   "execution_count": 16,
   "metadata": {},
   "outputs": [
    {
     "name": "stdout",
     "output_type": "stream",
     "text": [
      "Rejected Rate of Early Voting in Person: 0.04%\n"
     ]
    }
   ],
   "source": [
    "rejected_rate_in_person=1-((2955609+3521)/2960318)\n",
    "print(\"Rejected Rate of Early Voting in Person: {:.2%}\".format(rejected_rate_in_person))"
   ]
  },
  {
   "cell_type": "markdown",
   "metadata": {},
   "source": [
    "# Conclusion\n",
    "\n",
    "- The rejected rate in person is far lower than the rejected rate by mail. Go vote in person"
   ]
  },
  {
   "cell_type": "code",
   "execution_count": null,
   "metadata": {},
   "outputs": [],
   "source": []
  }
 ],
 "metadata": {
  "kernelspec": {
   "display_name": "Python 3",
   "language": "python",
   "name": "python3"
  },
  "language_info": {
   "codemirror_mode": {
    "name": "ipython",
    "version": 3
   },
   "file_extension": ".py",
   "mimetype": "text/x-python",
   "name": "python",
   "nbconvert_exporter": "python",
   "pygments_lexer": "ipython3",
   "version": "3.6.9"
  }
 },
 "nbformat": 4,
 "nbformat_minor": 2
}
