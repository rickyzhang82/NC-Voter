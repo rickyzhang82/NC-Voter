{
 "cells": [
  {
   "cell_type": "code",
   "execution_count": 1,
   "metadata": {},
   "outputs": [],
   "source": [
    "import numpy as np\n",
    "import pandas as pd\n",
    "import math\n",
    "import os.path\n",
    "import json\n",
    "import time"
   ]
  },
  {
   "cell_type": "code",
   "execution_count": 2,
   "metadata": {},
   "outputs": [],
   "source": [
    "# Download absentee data source https://s3.amazonaws.com/dl.ncsbe.gov/ENRS/2016_11_08/absentee_20161108.zip\n",
    "DATA_ROOT_PATH = '/src/data/nc-voting'\n",
    "FILENAME = 'absentee_20161108.csv'"
   ]
  },
  {
   "cell_type": "code",
   "execution_count": 3,
   "metadata": {},
   "outputs": [
    {
     "name": "stderr",
     "output_type": "stream",
     "text": [
      "/usr/local/lib/python3.6/dist-packages/IPython/core/interactiveshell.py:3051: DtypeWarning: Columns (22) have mixed types. Specify dtype option on import or set low_memory=False.\n",
      "  interactivity=interactivity, compiler=compiler, result=result)\n"
     ]
    }
   ],
   "source": [
    "df = pd.read_csv (os.path.join(DATA_ROOT_PATH, FILENAME), encoding = \"ISO-8859-1\")"
   ]
  },
  {
   "cell_type": "markdown",
   "metadata": {},
   "source": [
    "# Data Exploration"
   ]
  },
  {
   "cell_type": "code",
   "execution_count": 4,
   "metadata": {},
   "outputs": [],
   "source": [
    "df['ballot_rtn_status_cat'] = df['ballot_rtn_status'].astype('category')"
   ]
  },
  {
   "cell_type": "code",
   "execution_count": 5,
   "metadata": {},
   "outputs": [
    {
     "data": {
      "text/plain": [
       "ACCEPTED                   3147210\n",
       "SPOILED                      15529\n",
       "CANCELLED                     3521\n",
       "WITNESS INFO INCOMPLETE       2700\n",
       "RETURNED AFTER DEADLINE       1215\n",
       "VOTER SIGNATURE MISSING       1101\n",
       "RETURNED UNDELIVERABLE         778\n",
       "NOT VOTED                      625\n",
       "WRONG VOTER                    549\n",
       "DUPLICATE                       39\n",
       "SIGNATURE DIFFERENT             32\n",
       "NOT PROPERLY NOTARIZED          32\n",
       "E-TRANSMISSION FAILURE          15\n",
       "Name: ballot_rtn_status_cat, dtype: int64"
      ]
     },
     "execution_count": 5,
     "metadata": {},
     "output_type": "execute_result"
    }
   ],
   "source": [
    "df['ballot_rtn_status_cat'].value_counts()"
   ]
  },
  {
   "cell_type": "code",
   "execution_count": 6,
   "metadata": {},
   "outputs": [
    {
     "data": {
      "text/plain": [
       "IN PERSON    2960469\n",
       "MAIL          222498\n",
       "E-MAIL         17972\n",
       "FAX               20\n",
       "Name: ballot_req_delivery_type_cat, dtype: int64"
      ]
     },
     "execution_count": 6,
     "metadata": {},
     "output_type": "execute_result"
    }
   ],
   "source": [
    "df['ballot_req_delivery_type_cat'] = df['ballot_req_delivery_type'].astype('category')\n",
    "df['ballot_req_delivery_type_cat'].value_counts()"
   ]
  },
  {
   "cell_type": "code",
   "execution_count": 7,
   "metadata": {},
   "outputs": [
    {
     "data": {
      "text/plain": [
       "ONE-STOP    2960318\n",
       "MAIL         240641\n",
       "Name: ballot_req_type_cat, dtype: int64"
      ]
     },
     "execution_count": 7,
     "metadata": {},
     "output_type": "execute_result"
    }
   ],
   "source": [
    "df['ballot_req_type_cat'] = df['ballot_req_type'].astype('category')\n",
    "df['ballot_req_type_cat'].value_counts()"
   ]
  },
  {
   "cell_type": "code",
   "execution_count": 8,
   "metadata": {},
   "outputs": [
    {
     "data": {
      "text/plain": [
       "11/08/2016    3200959\n",
       "Name: election_dt, dtype: int64"
      ]
     },
     "execution_count": 8,
     "metadata": {},
     "output_type": "execute_result"
    }
   ],
   "source": [
    "df[\"election_dt\"].astype('category').value_counts()"
   ]
  },
  {
   "cell_type": "markdown",
   "metadata": {},
   "source": [
    "# Rejected Rate in Absentee Ballot by Mail"
   ]
  },
  {
   "cell_type": "code",
   "execution_count": 9,
   "metadata": {},
   "outputs": [],
   "source": [
    "vote_by_mail_df = df[df['ballot_req_type_cat']=='MAIL']"
   ]
  },
  {
   "cell_type": "code",
   "execution_count": 10,
   "metadata": {},
   "outputs": [
    {
     "data": {
      "text/plain": [
       "ACCEPTED                   191601\n",
       "SPOILED                     15529\n",
       "WITNESS INFO INCOMPLETE      2700\n",
       "RETURNED AFTER DEADLINE      1215\n",
       "VOTER SIGNATURE MISSING      1101\n",
       "RETURNED UNDELIVERABLE        778\n",
       "SIGNATURE DIFFERENT            32\n",
       "NOT PROPERLY NOTARIZED         32\n",
       "DUPLICATE                      25\n",
       "E-TRANSMISSION FAILURE         15\n",
       "WRONG VOTER                     0\n",
       "NOT VOTED                       0\n",
       "CANCELLED                       0\n",
       "Name: ballot_rtn_status_cat, dtype: int64"
      ]
     },
     "execution_count": 10,
     "metadata": {},
     "output_type": "execute_result"
    }
   ],
   "source": [
    "vote_by_mail_df['ballot_rtn_status_cat'].value_counts()"
   ]
  },
  {
   "cell_type": "code",
   "execution_count": 11,
   "metadata": {},
   "outputs": [
    {
     "data": {
      "text/plain": [
       "240641"
      ]
     },
     "execution_count": 11,
     "metadata": {},
     "output_type": "execute_result"
    }
   ],
   "source": [
    "len(vote_by_mail_df)"
   ]
  },
  {
   "cell_type": "code",
   "execution_count": 12,
   "metadata": {},
   "outputs": [
    {
     "name": "stdout",
     "output_type": "stream",
     "text": [
      "Rejected Rate of absentee ballot in mail : 13.93%\n"
     ]
    }
   ],
   "source": [
    "rejected_rate_in_mail=1-((191601 + 15529 )/240641)\n",
    "print(\"Rejected Rate of absentee ballot in mail : {:.2%}\".format(rejected_rate_in_mail))"
   ]
  },
  {
   "cell_type": "markdown",
   "metadata": {},
   "source": [
    "# Rejected Rate in Absentee Ballot in Person"
   ]
  },
  {
   "cell_type": "code",
   "execution_count": 13,
   "metadata": {},
   "outputs": [],
   "source": [
    "one_stop_vote_in_person = df[df['ballot_req_type_cat']=='ONE-STOP']"
   ]
  },
  {
   "cell_type": "code",
   "execution_count": 14,
   "metadata": {},
   "outputs": [
    {
     "data": {
      "text/plain": [
       "ACCEPTED                   2955609\n",
       "CANCELLED                     3521\n",
       "NOT VOTED                      625\n",
       "WRONG VOTER                    549\n",
       "DUPLICATE                       14\n",
       "WITNESS INFO INCOMPLETE          0\n",
       "VOTER SIGNATURE MISSING          0\n",
       "SPOILED                          0\n",
       "SIGNATURE DIFFERENT              0\n",
       "RETURNED UNDELIVERABLE           0\n",
       "RETURNED AFTER DEADLINE          0\n",
       "NOT PROPERLY NOTARIZED           0\n",
       "E-TRANSMISSION FAILURE           0\n",
       "Name: ballot_rtn_status_cat, dtype: int64"
      ]
     },
     "execution_count": 14,
     "metadata": {},
     "output_type": "execute_result"
    }
   ],
   "source": [
    "one_stop_vote_in_person['ballot_rtn_status_cat'].value_counts()"
   ]
  },
  {
   "cell_type": "code",
   "execution_count": 15,
   "metadata": {},
   "outputs": [
    {
     "data": {
      "text/plain": [
       "2960318"
      ]
     },
     "execution_count": 15,
     "metadata": {},
     "output_type": "execute_result"
    }
   ],
   "source": [
    "len(one_stop_vote_in_person)"
   ]
  },
  {
   "cell_type": "code",
   "execution_count": 16,
   "metadata": {},
   "outputs": [
    {
     "name": "stdout",
     "output_type": "stream",
     "text": [
      "Rejected Rate of Early Voting in Person: 0.04%\n"
     ]
    }
   ],
   "source": [
    "rejected_rate_in_person=1-((2955609+3521)/2960318)\n",
    "print(\"Rejected Rate of Early Voting in Person: {:.2%}\".format(rejected_rate_in_person))"
   ]
  },
  {
   "cell_type": "markdown",
   "metadata": {},
   "source": [
    "# Conclusion\n",
    "\n",
    "- The rejected rate in person is far lower than the rejected rate by mail. Go vote in person"
   ]
  },
  {
   "cell_type": "code",
   "execution_count": null,
   "metadata": {},
   "outputs": [],
   "source": []
  }
 ],
 "metadata": {
  "kernelspec": {
   "display_name": "Python 3",
   "language": "python",
   "name": "python3"
  },
  "language_info": {
   "codemirror_mode": {
    "name": "ipython",
    "version": 3
   },
   "file_extension": ".py",
   "mimetype": "text/x-python",
   "name": "python",
   "nbconvert_exporter": "python",
   "pygments_lexer": "ipython3",
   "version": "3.6.9"
  }
 },
 "nbformat": 4,
 "nbformat_minor": 2
}
